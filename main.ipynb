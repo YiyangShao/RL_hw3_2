{
 "cells": [
  {
   "cell_type": "code",
   "execution_count": 6,
   "metadata": {},
   "outputs": [],
   "source": [
    "import argparse\n",
    "\n",
    "def parse_args(s):\n",
    "    parser = argparse.ArgumentParser(description=\"Run nive double q learning.\")\n",
    "\n",
    "    parser.add_argument('--epoch', type=int, default=50,\n",
    "                        help='Number of max epochs.')\n",
    "    parser.add_argument('--data', nargs='?', default='data',\n",
    "                        help='data directory')\n",
    "    # parser.add_argument('--pretrain', type=int, default=1,\n",
    "    #                     help='flag for pretrain. 1: initialize from pretrain; 0: randomly initialize; -1: save the model to pretrain file')\n",
    "    parser.add_argument('--batch_size', type=int, default=256,\n",
    "                        help='Batch size.')\n",
    "    parser.add_argument('--hidden_factor', type=int, default=64,\n",
    "                        help='Number of hidden factors, i.e., embedding size.')\n",
    "    parser.add_argument('--r_click', type=float, default=0.2,\n",
    "                        help='reward for the click behavior.')\n",
    "    parser.add_argument('--r_buy', type=float, default=1.0,\n",
    "                        help='reward for the purchase behavior.')\n",
    "    parser.add_argument('--r_negative', type=float, default=-0.0,\n",
    "                        help='reward for the negative behavior.')\n",
    "    parser.add_argument('--lr', type=float, default=0.005,\n",
    "                        help='Learning rate.')\n",
    "    parser.add_argument('--discount', type=float, default=0.5,\n",
    "                        help='Discount factor for RL.')\n",
    "    parser.add_argument('--neg', type=int, default=10,\n",
    "                        help='number of negative samples.')\n",
    "    parser.add_argument('--weight', type=float, default=1.0,\n",
    "                        help='number of negative samples.')\n",
    "    parser.add_argument('--smooth', type=float, default=0.0,\n",
    "                        help='smooth factor for off-policy correction,smooth=0 equals no correction')\n",
    "    parser.add_argument('--clip', type=float, default=0.0,\n",
    "                        help='clip value for advantage')\n",
    "    parser.add_argument('--lr_2', type=float, default=0.001,\n",
    "                        help='Learning rate.')\n",
    "    parser.add_argument('--model', type=str, default='NItNet',\n",
    "                        help='the base recommendation models, including GRU,Caser,NItNet and SASRec')\n",
    "    parser.add_argument('--num_filters', type=int, default=16,\n",
    "                        help='Number of filters per filter size (default: 16) (for Caser)')\n",
    "    parser.add_argument('--filter_sizes', nargs='?', default='[2,3,4]',\n",
    "                        help='Specify the filter_size (for Caser)')\n",
    "    parser.add_argument('--num_heads', default=1, type=int, help='number heads (for SASRec)')\n",
    "    parser.add_argument('--num_blocks', default=1, type=int, help='number heads (for SASRec)')\n",
    "    parser.add_argument('--dropout_rate', default=0.1, type=float)\n",
    "\n",
    "    return parser.parse_args(s)"
   ]
  },
  {
   "cell_type": "code",
   "execution_count": 7,
   "metadata": {},
   "outputs": [],
   "source": [
    "args = parse_args(\"\")"
   ]
  },
  {
   "cell_type": "code",
   "execution_count": 9,
   "metadata": {},
   "outputs": [
    {
     "data": {
      "text/plain": [
       "'NItNet'"
      ]
     },
     "execution_count": 9,
     "metadata": {},
     "output_type": "execute_result"
    }
   ],
   "source": [
    "args.model"
   ]
  },
  {
   "cell_type": "code",
   "execution_count": null,
   "metadata": {},
   "outputs": [],
   "source": []
  }
 ],
 "metadata": {
  "kernelspec": {
   "display_name": "Python 3",
   "language": "python",
   "name": "python3"
  },
  "language_info": {
   "codemirror_mode": {
    "name": "ipython",
    "version": 3
   },
   "file_extension": ".py",
   "mimetype": "text/x-python",
   "name": "python",
   "nbconvert_exporter": "python",
   "pygments_lexer": "ipython3",
   "version": "3.9.6"
  }
 },
 "nbformat": 4,
 "nbformat_minor": 2
}
