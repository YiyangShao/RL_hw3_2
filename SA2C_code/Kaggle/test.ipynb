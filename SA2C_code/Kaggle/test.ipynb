{
 "cells": [
  {
   "cell_type": "code",
   "execution_count": 1,
   "metadata": {},
   "outputs": [],
   "source": [
    "import pandas as pd\n",
    "import numpy as np"
   ]
  },
  {
   "cell_type": "code",
   "execution_count": 2,
   "metadata": {},
   "outputs": [
    {
     "data": {
      "text/html": [
       "<div>\n",
       "<style scoped>\n",
       "    .dataframe tbody tr th:only-of-type {\n",
       "        vertical-align: middle;\n",
       "    }\n",
       "\n",
       "    .dataframe tbody tr th {\n",
       "        vertical-align: top;\n",
       "    }\n",
       "\n",
       "    .dataframe thead th {\n",
       "        text-align: right;\n",
       "    }\n",
       "</style>\n",
       "<table border=\"1\" class=\"dataframe\">\n",
       "  <thead>\n",
       "    <tr style=\"text-align: right;\">\n",
       "      <th></th>\n",
       "      <th>timestamp</th>\n",
       "      <th>itemid</th>\n",
       "      <th>property</th>\n",
       "      <th>value</th>\n",
       "    </tr>\n",
       "  </thead>\n",
       "  <tbody>\n",
       "    <tr>\n",
       "      <th>0</th>\n",
       "      <td>1435460400000</td>\n",
       "      <td>460429</td>\n",
       "      <td>categoryid</td>\n",
       "      <td>1338</td>\n",
       "    </tr>\n",
       "    <tr>\n",
       "      <th>1</th>\n",
       "      <td>1441508400000</td>\n",
       "      <td>206783</td>\n",
       "      <td>888</td>\n",
       "      <td>1116713 960601 n277.200</td>\n",
       "    </tr>\n",
       "    <tr>\n",
       "      <th>2</th>\n",
       "      <td>1439089200000</td>\n",
       "      <td>395014</td>\n",
       "      <td>400</td>\n",
       "      <td>n552.000 639502 n720.000 424566</td>\n",
       "    </tr>\n",
       "    <tr>\n",
       "      <th>3</th>\n",
       "      <td>1431226800000</td>\n",
       "      <td>59481</td>\n",
       "      <td>790</td>\n",
       "      <td>n15360.000</td>\n",
       "    </tr>\n",
       "    <tr>\n",
       "      <th>4</th>\n",
       "      <td>1431831600000</td>\n",
       "      <td>156781</td>\n",
       "      <td>917</td>\n",
       "      <td>828513</td>\n",
       "    </tr>\n",
       "  </tbody>\n",
       "</table>\n",
       "</div>"
      ],
      "text/plain": [
       "       timestamp  itemid    property                            value\n",
       "0  1435460400000  460429  categoryid                             1338\n",
       "1  1441508400000  206783         888          1116713 960601 n277.200\n",
       "2  1439089200000  395014         400  n552.000 639502 n720.000 424566\n",
       "3  1431226800000   59481         790                       n15360.000\n",
       "4  1431831600000  156781         917                           828513"
      ]
     },
     "execution_count": 2,
     "metadata": {},
     "output_type": "execute_result"
    }
   ],
   "source": [
    "df1 = pd.read_csv(\"data/item_properties_part1.csv\")\n",
    "df2 = pd.read_csv(\"data/item_properties_part2.csv\")\n",
    "df = pd.concat([df1, df2])\n",
    "df.head()"
   ]
  },
  {
   "cell_type": "code",
   "execution_count": 3,
   "metadata": {},
   "outputs": [],
   "source": [
    "replay_buffer = pd.read_pickle('data/replay_buffer.df')"
   ]
  },
  {
   "cell_type": "code",
   "execution_count": 4,
   "metadata": {},
   "outputs": [
    {
     "data": {
      "text/plain": [
       "68309"
      ]
     },
     "execution_count": 4,
     "metadata": {},
     "output_type": "execute_result"
    }
   ],
   "source": [
    "\n",
    "s = set()\n",
    "for i in replay_buffer[\"state\"]:\n",
    "    for j in i:\n",
    "        s.add(j)\n",
    "        \n",
    "len(s)"
   ]
  },
  {
   "cell_type": "code",
   "execution_count": 5,
   "metadata": {},
   "outputs": [],
   "source": [
    "all_item = set(pd.unique(replay_buffer[\"action\"]))"
   ]
  },
  {
   "cell_type": "code",
   "execution_count": 6,
   "metadata": {},
   "outputs": [
    {
     "data": {
      "text/plain": [
       "11"
      ]
     },
     "execution_count": 6,
     "metadata": {},
     "output_type": "execute_result"
    }
   ],
   "source": [
    "(replay_buffer[\"action\"] == 1).sum()"
   ]
  },
  {
   "cell_type": "code",
   "execution_count": 7,
   "metadata": {},
   "outputs": [],
   "source": [
    "df_filtered = df.loc[df[\"itemid\"].isin(all_item)]"
   ]
  },
  {
   "cell_type": "code",
   "execution_count": 8,
   "metadata": {},
   "outputs": [
    {
     "data": {
      "text/html": [
       "<div>\n",
       "<style scoped>\n",
       "    .dataframe tbody tr th:only-of-type {\n",
       "        vertical-align: middle;\n",
       "    }\n",
       "\n",
       "    .dataframe tbody tr th {\n",
       "        vertical-align: top;\n",
       "    }\n",
       "\n",
       "    .dataframe thead th {\n",
       "        text-align: right;\n",
       "    }\n",
       "</style>\n",
       "<table border=\"1\" class=\"dataframe\">\n",
       "  <thead>\n",
       "    <tr style=\"text-align: right;\">\n",
       "      <th></th>\n",
       "      <th>timestamp</th>\n",
       "      <th>itemid</th>\n",
       "      <th>property</th>\n",
       "      <th>value</th>\n",
       "    </tr>\n",
       "  </thead>\n",
       "  <tbody>\n",
       "    <tr>\n",
       "      <th>3</th>\n",
       "      <td>1431226800000</td>\n",
       "      <td>59481</td>\n",
       "      <td>790</td>\n",
       "      <td>n15360.000</td>\n",
       "    </tr>\n",
       "    <tr>\n",
       "      <th>18</th>\n",
       "      <td>1437274800000</td>\n",
       "      <td>49337</td>\n",
       "      <td>0</td>\n",
       "      <td>n36.000 1186610 119932 717520 903287 98606 632...</td>\n",
       "    </tr>\n",
       "    <tr>\n",
       "      <th>20</th>\n",
       "      <td>1439694000000</td>\n",
       "      <td>48696</td>\n",
       "      <td>566</td>\n",
       "      <td>n480.000 639502 189174</td>\n",
       "    </tr>\n",
       "    <tr>\n",
       "      <th>26</th>\n",
       "      <td>1435460400000</td>\n",
       "      <td>16615</td>\n",
       "      <td>888</td>\n",
       "      <td>150169 176547 824301 24474 293011 1240134</td>\n",
       "    </tr>\n",
       "    <tr>\n",
       "      <th>44</th>\n",
       "      <td>1438484400000</td>\n",
       "      <td>38351</td>\n",
       "      <td>544</td>\n",
       "      <td>1055803 1164666</td>\n",
       "    </tr>\n",
       "    <tr>\n",
       "      <th>...</th>\n",
       "      <td>...</td>\n",
       "      <td>...</td>\n",
       "      <td>...</td>\n",
       "      <td>...</td>\n",
       "    </tr>\n",
       "    <tr>\n",
       "      <th>9275876</th>\n",
       "      <td>1439694000000</td>\n",
       "      <td>4849</td>\n",
       "      <td>888</td>\n",
       "      <td>297765 406279 907471 88645 279913 1223352 1318567</td>\n",
       "    </tr>\n",
       "    <tr>\n",
       "      <th>9275883</th>\n",
       "      <td>1435460400000</td>\n",
       "      <td>10107</td>\n",
       "      <td>505</td>\n",
       "      <td>769062</td>\n",
       "    </tr>\n",
       "    <tr>\n",
       "      <th>9275887</th>\n",
       "      <td>1433646000000</td>\n",
       "      <td>9360</td>\n",
       "      <td>987</td>\n",
       "      <td>166332 n2520.000 377738</td>\n",
       "    </tr>\n",
       "    <tr>\n",
       "      <th>9275889</th>\n",
       "      <td>1434250800000</td>\n",
       "      <td>12864</td>\n",
       "      <td>888</td>\n",
       "      <td>249879 724834 1172269</td>\n",
       "    </tr>\n",
       "    <tr>\n",
       "      <th>9275894</th>\n",
       "      <td>1431226800000</td>\n",
       "      <td>58255</td>\n",
       "      <td>917</td>\n",
       "      <td>n1020780.000</td>\n",
       "    </tr>\n",
       "  </tbody>\n",
       "</table>\n",
       "<p>3013870 rows × 4 columns</p>\n",
       "</div>"
      ],
      "text/plain": [
       "             timestamp  itemid property  \\\n",
       "3        1431226800000   59481      790   \n",
       "18       1437274800000   49337        0   \n",
       "20       1439694000000   48696      566   \n",
       "26       1435460400000   16615      888   \n",
       "44       1438484400000   38351      544   \n",
       "...                ...     ...      ...   \n",
       "9275876  1439694000000    4849      888   \n",
       "9275883  1435460400000   10107      505   \n",
       "9275887  1433646000000    9360      987   \n",
       "9275889  1434250800000   12864      888   \n",
       "9275894  1431226800000   58255      917   \n",
       "\n",
       "                                                     value  \n",
       "3                                               n15360.000  \n",
       "18       n36.000 1186610 119932 717520 903287 98606 632...  \n",
       "20                                  n480.000 639502 189174  \n",
       "26               150169 176547 824301 24474 293011 1240134  \n",
       "44                                         1055803 1164666  \n",
       "...                                                    ...  \n",
       "9275876  297765 406279 907471 88645 279913 1223352 1318567  \n",
       "9275883                                             769062  \n",
       "9275887                            166332 n2520.000 377738  \n",
       "9275889                              249879 724834 1172269  \n",
       "9275894                                       n1020780.000  \n",
       "\n",
       "[3013870 rows x 4 columns]"
      ]
     },
     "execution_count": 8,
     "metadata": {},
     "output_type": "execute_result"
    }
   ],
   "source": [
    "df_filtered"
   ]
  },
  {
   "cell_type": "code",
   "execution_count": 9,
   "metadata": {},
   "outputs": [],
   "source": [
    "# unstatic = set()\n",
    "# count = 0\n",
    "# for item in s:\n",
    "#     cur_item = df_filtered.loc[df_filtered[\"itemid\"] == item]\n",
    "#     cur_property = cur_item[\"property\"].value_counts()\n",
    "#     for prop in cur_property.index:\n",
    "#         if cur_property[prop] > 1:\n",
    "#             unstatic.add(prop)\n",
    "#     count += 1\n",
    "#     if count % 1000 == 0:\n",
    "#         print(count)\n",
    "# unstatic\n",
    "with open(\"unstatic_feature.txt\", \"r\") as f:\n",
    "    s = f.read()\n",
    "\n",
    "s = s[1:-1].split(\", \")\n",
    "s1 = []\n",
    "for c in s:\n",
    "    s1.append(c[1:-1])\n",
    "    # if c[0].isdigit():\n",
    "    #     s1.append(int(c))\n",
    "    # else:\n",
    "    #     s1.append(c)\n",
    "unstatic = set(s1)\n",
    "    "
   ]
  },
  {
   "cell_type": "code",
   "execution_count": 10,
   "metadata": {},
   "outputs": [
    {
     "data": {
      "text/html": [
       "<div>\n",
       "<style scoped>\n",
       "    .dataframe tbody tr th:only-of-type {\n",
       "        vertical-align: middle;\n",
       "    }\n",
       "\n",
       "    .dataframe tbody tr th {\n",
       "        vertical-align: top;\n",
       "    }\n",
       "\n",
       "    .dataframe thead th {\n",
       "        text-align: right;\n",
       "    }\n",
       "</style>\n",
       "<table border=\"1\" class=\"dataframe\">\n",
       "  <thead>\n",
       "    <tr style=\"text-align: right;\">\n",
       "      <th></th>\n",
       "      <th>timestamp</th>\n",
       "      <th>itemid</th>\n",
       "      <th>property</th>\n",
       "      <th>value</th>\n",
       "    </tr>\n",
       "  </thead>\n",
       "  <tbody>\n",
       "    <tr>\n",
       "      <th>209</th>\n",
       "      <td>1433041200000</td>\n",
       "      <td>35535</td>\n",
       "      <td>671</td>\n",
       "      <td>769062</td>\n",
       "    </tr>\n",
       "    <tr>\n",
       "      <th>218</th>\n",
       "      <td>1435460400000</td>\n",
       "      <td>10394</td>\n",
       "      <td>631</td>\n",
       "      <td>n360.000 988555</td>\n",
       "    </tr>\n",
       "    <tr>\n",
       "      <th>231</th>\n",
       "      <td>1431226800000</td>\n",
       "      <td>15401</td>\n",
       "      <td>159</td>\n",
       "      <td>519769</td>\n",
       "    </tr>\n",
       "    <tr>\n",
       "      <th>234</th>\n",
       "      <td>1433646000000</td>\n",
       "      <td>63632</td>\n",
       "      <td>264</td>\n",
       "      <td>150169 153715 484436</td>\n",
       "    </tr>\n",
       "    <tr>\n",
       "      <th>327</th>\n",
       "      <td>1433646000000</td>\n",
       "      <td>62921</td>\n",
       "      <td>830</td>\n",
       "      <td>373898</td>\n",
       "    </tr>\n",
       "    <tr>\n",
       "      <th>...</th>\n",
       "      <td>...</td>\n",
       "      <td>...</td>\n",
       "      <td>...</td>\n",
       "      <td>...</td>\n",
       "    </tr>\n",
       "    <tr>\n",
       "      <th>9275746</th>\n",
       "      <td>1433041200000</td>\n",
       "      <td>48460</td>\n",
       "      <td>112</td>\n",
       "      <td>679677</td>\n",
       "    </tr>\n",
       "    <tr>\n",
       "      <th>9275800</th>\n",
       "      <td>1431226800000</td>\n",
       "      <td>15994</td>\n",
       "      <td>159</td>\n",
       "      <td>519769</td>\n",
       "    </tr>\n",
       "    <tr>\n",
       "      <th>9275818</th>\n",
       "      <td>1436670000000</td>\n",
       "      <td>44621</td>\n",
       "      <td>259</td>\n",
       "      <td>185669 69507</td>\n",
       "    </tr>\n",
       "    <tr>\n",
       "      <th>9275839</th>\n",
       "      <td>1440298800000</td>\n",
       "      <td>52102</td>\n",
       "      <td>591</td>\n",
       "      <td>1116693</td>\n",
       "    </tr>\n",
       "    <tr>\n",
       "      <th>9275883</th>\n",
       "      <td>1435460400000</td>\n",
       "      <td>10107</td>\n",
       "      <td>505</td>\n",
       "      <td>769062</td>\n",
       "    </tr>\n",
       "  </tbody>\n",
       "</table>\n",
       "<p>547537 rows × 4 columns</p>\n",
       "</div>"
      ],
      "text/plain": [
       "             timestamp  itemid property                 value\n",
       "209      1433041200000   35535      671                769062\n",
       "218      1435460400000   10394      631       n360.000 988555\n",
       "231      1431226800000   15401      159                519769\n",
       "234      1433646000000   63632      264  150169 153715 484436\n",
       "327      1433646000000   62921      830                373898\n",
       "...                ...     ...      ...                   ...\n",
       "9275746  1433041200000   48460      112                679677\n",
       "9275800  1431226800000   15994      159                519769\n",
       "9275818  1436670000000   44621      259          185669 69507\n",
       "9275839  1440298800000   52102      591               1116693\n",
       "9275883  1435460400000   10107      505                769062\n",
       "\n",
       "[547537 rows x 4 columns]"
      ]
     },
     "execution_count": 10,
     "metadata": {},
     "output_type": "execute_result"
    }
   ],
   "source": [
    "df_filtered = df_filtered.loc[~df_filtered[\"property\"].isin(unstatic)]\n",
    "df_filtered"
   ]
  },
  {
   "cell_type": "code",
   "execution_count": 11,
   "metadata": {},
   "outputs": [
    {
     "name": "stderr",
     "output_type": "stream",
     "text": [
      "/Users/yiyang/Library/Python/3.9/lib/python/site-packages/sklearn/preprocessing/_encoders.py:975: FutureWarning: `sparse` was renamed to `sparse_output` in version 1.2 and will be removed in 1.4. `sparse_output` is ignored unless you leave `sparse` to its default value.\n",
      "  warnings.warn(\n"
     ]
    },
    {
     "data": {
      "text/plain": [
       "(547537, 20817)"
      ]
     },
     "execution_count": 11,
     "metadata": {},
     "output_type": "execute_result"
    }
   ],
   "source": [
    "import pandas as pd\n",
    "from sklearn.preprocessing import OneHotEncoder, StandardScaler\n",
    "categorical_features = ['property', 'value']\n",
    "one_hot_encoder = OneHotEncoder(sparse=False)\n",
    "one_hot_encoded = one_hot_encoder.fit_transform(df_filtered[categorical_features])\n",
    "one_hot_encoded.shape"
   ]
  },
  {
   "cell_type": "code",
   "execution_count": 15,
   "metadata": {},
   "outputs": [
    {
     "data": {
      "text/plain": [
       "70851"
      ]
     },
     "execution_count": 15,
     "metadata": {},
     "output_type": "execute_result"
    }
   ],
   "source": [
    "max(df_filtered[\"itemid\"])"
   ]
  },
  {
   "cell_type": "code",
   "execution_count": null,
   "metadata": {},
   "outputs": [],
   "source": [
    "item_array = np.array(list(all_item))\n",
    "item_array\n",
    "idx = np.arange(70852)\n",
    "features = np.zeros((70852, one_hot_encoded.shape[1]))\n"
   ]
  },
  {
   "cell_type": "code",
   "execution_count": null,
   "metadata": {},
   "outputs": [],
   "source": [
    "\n",
    "for i in range(100000):\n",
    "    if i % 10000 == 0:\n",
    "        print(i)\n",
    "    row = df_filtered.iloc[i,:]\n",
    "    itemid = row[\"itemid\"]\n",
    "    features[itemid] += one_hot_encoded[i]\n",
    "    "
   ]
  },
  {
   "cell_type": "code",
   "execution_count": 23,
   "metadata": {},
   "outputs": [],
   "source": [
    "\n",
    "with open('item_feature_300000.npy', 'wb') as f:\n",
    "    np.save(f, features)\n"
   ]
  },
  {
   "cell_type": "code",
   "execution_count": null,
   "metadata": {},
   "outputs": [],
   "source": [
    "with open('item_feature_300000.npy', 'rb') as f:\n",
    "    features = np.load(f)"
   ]
  },
  {
   "cell_type": "code",
   "execution_count": 22,
   "metadata": {},
   "outputs": [
    {
     "name": "stdout",
     "output_type": "stream",
     "text": [
      "500000\n",
      "510000\n",
      "520000\n",
      "530000\n",
      "540000\n"
     ]
    }
   ],
   "source": [
    "\n",
    "# df_filtered.shape[0]\n",
    "for i in range(500000,df_filtered.shape[0]):\n",
    "    if i % 10000 == 0:\n",
    "        print(i)\n",
    "    row = df_filtered.iloc[i,:]\n",
    "    itemid = row[\"itemid\"]\n",
    "    features[itemid] += one_hot_encoded[i]\n",
    "    "
   ]
  },
  {
   "cell_type": "code",
   "execution_count": 24,
   "metadata": {},
   "outputs": [
    {
     "data": {
      "text/plain": [
       "1095074.0"
      ]
     },
     "execution_count": 24,
     "metadata": {},
     "output_type": "execute_result"
    }
   ],
   "source": [
    "features.sum()"
   ]
  },
  {
   "cell_type": "code",
   "execution_count": 27,
   "metadata": {},
   "outputs": [
    {
     "ename": "",
     "evalue": "",
     "output_type": "error",
     "traceback": [
      "\u001b[1;31mThe Kernel crashed while executing code in the the current cell or a previous cell. Please review the code in the cell(s) to identify a possible cause of the failure. Click <a href='https://aka.ms/vscodeJupyterKernelCrash'>here</a> for more info. View Jupyter <a href='command:jupyter.viewOutput'>log</a> for further details."
     ]
    }
   ],
   "source": [
    "from sklearn.decomposition import PCA\n",
    "pca = PCA(n_components=100)\n",
    "\n",
    "# Fit PCA on your data\n",
    "pca.fit(features)\n",
    "\n",
    "# Transform the data according to the PCA\n",
    "X_reduced = pca.transform(X)"
   ]
  },
  {
   "cell_type": "code",
   "execution_count": null,
   "metadata": {},
   "outputs": [],
   "source": []
  }
 ],
 "metadata": {
  "kernelspec": {
   "display_name": "Python 3",
   "language": "python",
   "name": "python3"
  },
  "language_info": {
   "codemirror_mode": {
    "name": "ipython",
    "version": 3
   },
   "file_extension": ".py",
   "mimetype": "text/x-python",
   "name": "python",
   "nbconvert_exporter": "python",
   "pygments_lexer": "ipython3",
   "version": "3.9.6"
  }
 },
 "nbformat": 4,
 "nbformat_minor": 2
}
