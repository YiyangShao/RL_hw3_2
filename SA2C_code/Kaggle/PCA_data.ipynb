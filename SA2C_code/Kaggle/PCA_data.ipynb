{
 "cells": [
  {
   "cell_type": "code",
   "execution_count": 4,
   "metadata": {},
   "outputs": [],
   "source": [
    "import pandas as pd\n",
    "import numpy as np"
   ]
  },
  {
   "cell_type": "code",
   "execution_count": 5,
   "metadata": {},
   "outputs": [],
   "source": [
    "with open('item_feature_300000.npy', 'rb') as f:\n",
    "    features = np.load(f)"
   ]
  },
  {
   "cell_type": "code",
   "execution_count": 3,
   "metadata": {},
   "outputs": [
    {
     "ename": "NameError",
     "evalue": "name 'X' is not defined",
     "output_type": "error",
     "traceback": [
      "\u001b[0;31m---------------------------------------------------------------------------\u001b[0m",
      "\u001b[0;31mNameError\u001b[0m                                 Traceback (most recent call last)",
      "\u001b[1;32m/Users/yiyang/Desktop/RL Apps/RL_hw3/SA2C_code/Kaggle/PCA_data.ipynb Cell 3\u001b[0m line \u001b[0;36m8\n\u001b[1;32m      <a href='vscode-notebook-cell:/Users/yiyang/Desktop/RL%20Apps/RL_hw3/SA2C_code/Kaggle/PCA_data.ipynb#X50sZmlsZQ%3D%3D?line=4'>5</a>\u001b[0m pca\u001b[39m.\u001b[39mfit(features)\n\u001b[1;32m      <a href='vscode-notebook-cell:/Users/yiyang/Desktop/RL%20Apps/RL_hw3/SA2C_code/Kaggle/PCA_data.ipynb#X50sZmlsZQ%3D%3D?line=6'>7</a>\u001b[0m \u001b[39m# Transform the data according to the PCA\u001b[39;00m\n\u001b[0;32m----> <a href='vscode-notebook-cell:/Users/yiyang/Desktop/RL%20Apps/RL_hw3/SA2C_code/Kaggle/PCA_data.ipynb#X50sZmlsZQ%3D%3D?line=7'>8</a>\u001b[0m X_reduced \u001b[39m=\u001b[39m pca\u001b[39m.\u001b[39mtransform(X)\n",
      "\u001b[0;31mNameError\u001b[0m: name 'X' is not defined"
     ]
    }
   ],
   "source": [
    "from sklearn.decomposition import PCA\n",
    "pca = PCA(n_components=100)\n",
    "\n",
    "# Fit PCA on your data\n",
    "pca.fit(features)\n",
    "\n",
    "# Transform the data according to the PCA\n",
    "X_reduced = pca.transform(features)"
   ]
  },
  {
   "cell_type": "code",
   "execution_count": 4,
   "metadata": {},
   "outputs": [],
   "source": [
    "X_reduced = pca.transform(features)"
   ]
  },
  {
   "cell_type": "code",
   "execution_count": 6,
   "metadata": {},
   "outputs": [
    {
     "data": {
      "text/plain": [
       "(70852, 100)"
      ]
     },
     "execution_count": 6,
     "metadata": {},
     "output_type": "execute_result"
    }
   ],
   "source": [
    "X_reduced.shape"
   ]
  },
  {
   "cell_type": "code",
   "execution_count": 7,
   "metadata": {},
   "outputs": [],
   "source": [
    "\n",
    "with open('item_feature_100.npy', 'wb') as f:\n",
    "    np.save(f, X_reduced)\n"
   ]
  },
  {
   "cell_type": "code",
   "execution_count": 7,
   "metadata": {},
   "outputs": [
    {
     "data": {
      "text/plain": [
       "(70852, 20817)"
      ]
     },
     "execution_count": 7,
     "metadata": {},
     "output_type": "execute_result"
    }
   ],
   "source": [
    "features.shape"
   ]
  },
  {
   "cell_type": "code",
   "execution_count": null,
   "metadata": {},
   "outputs": [],
   "source": []
  }
 ],
 "metadata": {
  "kernelspec": {
   "display_name": "Python 3",
   "language": "python",
   "name": "python3"
  },
  "language_info": {
   "codemirror_mode": {
    "name": "ipython",
    "version": 3
   },
   "file_extension": ".py",
   "mimetype": "text/x-python",
   "name": "python",
   "nbconvert_exporter": "python",
   "pygments_lexer": "ipython3",
   "version": "3.9.6"
  }
 },
 "nbformat": 4,
 "nbformat_minor": 2
}
